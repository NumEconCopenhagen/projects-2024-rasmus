{
 "cells": [
  {
   "cell_type": "markdown",
   "metadata": {},
   "source": [
    "# Principal-Agent Model"
   ]
  },
  {
   "attachments": {},
   "cell_type": "markdown",
   "metadata": {},
   "source": [
    "> **Note the following:** \n",
    "> 1. This is *not* meant to be an example of an actual **model analysis project**, just an example of how to structure such a project.\n",
    "> 1. Remember the general advice on structuring and commenting your code\n",
    "> 1. The `modelproject.py` file includes a function which could be used multiple times in this notebook."
   ]
  },
  {
   "cell_type": "markdown",
   "metadata": {},
   "source": [
    "Imports and set magics:"
   ]
  },
  {
   "cell_type": "code",
   "execution_count": 1,
   "metadata": {},
   "outputs": [],
   "source": [
    "import numpy as np\n",
    "from scipy import optimize\n",
    "import sympy as sm\n",
    "\n",
    "# autoreload modules when code is run\n",
    "%load_ext autoreload\n",
    "%autoreload 2\n",
    "\n",
    "# local modules\n",
    "import modelproject"
   ]
  },
  {
   "cell_type": "markdown",
   "metadata": {},
   "source": [
    "# Model description"
   ]
  },
  {
   "cell_type": "markdown",
   "metadata": {},
   "source": [
    "# Principal-Agent Model Overview\n",
    "\n",
    "The Principal-Agent model addresses scenarios where one party (the principal) hires another (the agent) to perform a task. The principal cannot observe the agent's effort directly but can see the outcomes, which are influenced by the agent’s effort. The key challenge is designing a contract that aligns the agent's actions with the principal's interests despite the information asymmetry.\n",
    "\n",
    "This model explores how contracts can be designed to align the interests of the principal and the agent. It is applicable in employment relationships, contracting scenarios, and any situation where work is delegated under conditions of asymmetric information. This assignment will apply the Principal-Agent model to an insurance context.\n",
    "\n",
    "## Agent's Utility Function\n",
    "\n",
    "The agent is a consumer whose utility depends on consumption (c) through the function $v(c)$. Consumption depends on income $M$. The agent has a probability $\\pi$ of needing their insurance. If the agent needs their insurance, they incur a loss $L$, and their consumption would be:\n",
    "$$\n",
    "c = M - L\n",
    "$$\n",
    "With probability $1 - \\pi$, the agent does not need their insurance:\n",
    "$$\n",
    "c = M\n",
    "$$\n",
    "\n",
    "## Principal's Payoff Function\n",
    "\n",
    "The principal in this case is an insurance company, which sells an insurance policy at a price $\\Gamma$ and offers a payment $K$ when the insurance is claimed. The consumer first pays $\\Gamma$, hence we can express the consumption probabilities for the principal as follows:\n",
    "\n",
    "With probability $\\pi$:\n",
    "$$\n",
    "c = M - \\Gamma - L + K\n",
    "$$\n",
    "\n",
    "With probability $1 - \\pi$:\n",
    "$$\n",
    "c = M - \\Gamma\n",
    "$$\n",
    "\n",
    "The principal offers the contract to the agent with the given $K$ and $\\Gamma$. The agent must achieve a higher utility from accepting the contract than their reservation utility, which is given as:\n",
    "$$\n",
    "\\bar{v} = \\pi \\cdot v(M - L) + (1 - \\pi) \\cdot v(M)\n",
    "$$\n",
    "\n",
    "The agent is assumed to be risk-averse and the insurance company is profit-maximizing. Therefore, the principal solves:\n",
    "$$\n",
    "\\max_{\\Gamma, K} \\pi \\cdot (\\Gamma - K) + (1 - \\pi) \\cdot \\Gamma\n",
    "$$\n",
    "subject to:\n",
    "$$\n",
    "\\pi \\cdot v(M - \\Gamma - L + K) + (1 - \\pi) \\cdot v(M - \\Gamma) \\geq \\bar{v}\n",
    "$$\n",
    "\n",
    "This can be simplified by defining $c_1 = M - \\Gamma - L + K$ which is the consumption with probability $1 - \\pi$, and $c_2 = M - \\Gamma$ which is the consumption with probability $\\pi$. We can then rewrite the problem as:\n",
    "$$\n",
    "\\max_{c_1, c_2} M - \\pi \\cdot L - (1 - \\pi) \\cdot c_1 - \\pi \\cdot c_2\n",
    "$$\n",
    "subject to:\n",
    "$$\n",
    "\\pi \\cdot v(c_2) + (1 - \\pi) \\cdot v(c_1) \\geq \\bar{v}\n",
    "$$\n"
   ]
  },
  {
   "cell_type": "markdown",
   "metadata": {},
   "source": [
    "## Analytical solution"
   ]
  },
  {
   "cell_type": "markdown",
   "metadata": {},
   "source": [
    "# Solving the Problem\n",
    "\n",
    "Simplify by Assuming the Constraint is Binding (or adjust the price accordingly so we can solve using Lagrange):**\n",
    "  The Lagrangian can be set up as:\n",
    "  $$\n",
    "  L(c_1, c_2, \\lambda) = M - \\pi \\cdot L - (1 - \\pi) c_1 - \\pi c_2 + \\lambda \\left( \\pi \\cdot v(c_2) + (1 - \\pi) \\cdot v(c_1) - \\bar{v} \\right)\n",
    "  $$\n",
    "\n",
    "- **First Order Conditions:**\n",
    "  The partial derivatives of the Lagrangian with respect to $c_1$, $c_2$, and $\\lambda$ yield the following system of equations:\n",
    "  $$\n",
    "  -(1 - \\pi) + \\lambda (1 - \\pi) v'(c_1) = 0 \\quad \\Rightarrow \\quad v'(c_1) = \\frac{1}{\\lambda}\n",
    "  $$\n",
    "  $$\n",
    "  -\\pi + \\lambda \\pi v'(c_2) = 0 \\quad \\Rightarrow \\quad v'(c_2) = \\frac{1}{\\lambda}\n",
    "  $$\n",
    "\n",
    "- **Implications of Concavity ($v'' < 0$):**\n",
    "  Since $v'' < 0$, $v'$ is strictly decreasing. This implies that in the optimal contract, $c_1 = c_2$ (i.e., $K = L$, where due to the binding constraint we can also determine $\\Gamma$).\n",
    "  \n"
   ]
  },
  {
   "cell_type": "markdown",
   "metadata": {},
   "source": [
    "# Analytical Setup of the Principal-Agent Model\n",
    "\n",
    "## Step 1: Define the Utility Functions\n",
    "\n",
    "The agent's utility function is assumed to be quadratic, represented by:\n",
    "$$\n",
    "v(c) = -\\frac{1}{2}(c - \\bar{c})^2\n",
    "$$\n",
    "where $\\bar{c}$ is the agent's desired consumption level, typically equivalent to the agent's income in the absence of any losses.\n",
    "\n",
    "The derivative of this utility function, which is necessary for the Lagrangian formulation, is:\n",
    "$$\n",
    "v'(c) = -(c - \\bar{c})\n",
    "$$\n",
    "\n",
    "## Step 2: Setup the Lagrangian\n",
    "\n",
    "Given that the constraint is binding (meaning the agent receives exactly their reservation utility), the Lagrangian for this Principal-Agent problem is:\n",
    "$$\n",
    "\\mathcal{L}(c_1, c_2, \\lambda) = M - \\pi L - (1 - \\pi) c_1 - \\pi c_2 + \\lambda \\left(\\pi v(c_2) + (1-\\pi) v(c_1) - \\bar{v} \\right)\n",
    "$$\n",
    "where:\n",
    "- $M$ is the income,\n",
    "- $\\pi$ is the probability of incurring a loss,\n",
    "- $L$ is the loss amount,\n",
    "- $c_1$ and $c_2$ are consumptions in scenarios without and with insurance claims, respectively,\n",
    "- $\\lambda$ is the Lagrange multiplier,\n",
    "- $\\bar{v}$ is the agent's reservation utility.\n",
    "\n",
    "## Step 3: Define the First Order Conditions\n",
    "\n",
    "To find the optimal contract terms ($c_1$ and $c_2$) and the value of the Lagrange multiplier ($\\lambda$), the first-order conditions are derived and solved as follows:\n",
    "$$\n",
    "-(1 - \\pi) + \\lambda(1 - \\pi) v'(c_1) = 0 \\quad \\Rightarrow \\quad v'(c_1) = \\frac{1}{\\lambda}\n",
    "$$\n",
    "$$\n",
    "-\\pi + \\lambda \\pi v'(c_2) = 0 \\quad \\Rightarrow \\quad v'(c_2) = \\frac{1}{\\lambda}\n",
    "$$\n",
    "$$\n",
    "\\pi v(c_2) + (1-\\pi) v(c_1) = \\bar{v} \\quad \\text{(the constraint)}\n",
    "$$\n",
    "\n",
    "These equations help determine the optimal insurance policy terms that balance the incentives between the insurance company (principal) and the insured (agent), ensuring the agent's willingness to participate.\n"
   ]
  },
  {
   "cell_type": "markdown",
   "metadata": {},
   "source": [
    "## Numerical solution"
   ]
  },
  {
   "cell_type": "code",
   "execution_count": 2,
   "metadata": {},
   "outputs": [
    {
     "name": "stdout",
     "output_type": "stream",
     "text": [
      "Solution: c1 = 95.52786404454889, c2 = 95.52786404384028, lambda = 0.2236067967866568\n"
     ]
    }
   ],
   "source": [
    "import numpy as np\n",
    "from scipy.optimize import fsolve\n",
    "\n",
    "# Define parameters\n",
    "pi = 0.5  # Probability of needing insurance\n",
    "M = 100  # Income\n",
    "L = 50  # Loss\n",
    "bar_v = -10  # Reservation utility\n",
    "bar_c = M  # Desired consumption\n",
    "\n",
    "# Utility function and its derivative\n",
    "def v(c):\n",
    "    return -0.5 * (c - bar_c) ** 2\n",
    "\n",
    "def v_prime(c):\n",
    "    return -(c - bar_c)\n",
    "\n",
    "# Define the equations derived from the first order conditions\n",
    "def equations(p):\n",
    "    c1, c2, lambda_ = p\n",
    "    eq1 = -(1 - pi) + lambda_ * (1 - pi) * v_prime(c1)\n",
    "    eq2 = -pi + lambda_ * pi * v_prime(c2)\n",
    "    eq3 = pi * v(c2) + (1 - pi) * v(c1) - bar_v\n",
    "    return (eq1, eq2, eq3)\n",
    "\n",
    "# Initial guesses for c1, c2, and lambda\n",
    "initial_guesses = [M, M, 1]\n",
    "solution = fsolve(equations, initial_guesses)\n",
    "\n",
    "print(f'Solution: c1 = {solution[0]}, c2 = {solution[1]}, lambda = {solution[2]}')\n"
   ]
  },
  {
   "cell_type": "markdown",
   "metadata": {},
   "source": [
    "# Further analysis"
   ]
  },
  {
   "cell_type": "markdown",
   "metadata": {},
   "source": [
    "Make detailed vizualizations of how your model changes with parameter values. \n",
    "\n",
    "Try to make an extension of the model. "
   ]
  },
  {
   "cell_type": "markdown",
   "metadata": {},
   "source": [
    "# Conclusion"
   ]
  },
  {
   "cell_type": "markdown",
   "metadata": {},
   "source": [
    "Add concise conclusion. "
   ]
  }
 ],
 "metadata": {
  "kernelspec": {
   "display_name": "base",
   "language": "python",
   "name": "python3"
  },
  "language_info": {
   "codemirror_mode": {
    "name": "ipython",
    "version": 3
   },
   "file_extension": ".py",
   "mimetype": "text/x-python",
   "name": "python",
   "nbconvert_exporter": "python",
   "pygments_lexer": "ipython3",
   "version": "3.9.10"
  },
  "toc-autonumbering": true,
  "vscode": {
   "interpreter": {
    "hash": "47ef90cdf3004d3f859f1fb202523c65c07ba7c22eefd261b181f4744e2d0403"
   }
  }
 },
 "nbformat": 4,
 "nbformat_minor": 4
}
