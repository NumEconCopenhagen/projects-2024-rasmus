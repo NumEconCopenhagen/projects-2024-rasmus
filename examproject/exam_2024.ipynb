{
 "cells": [
  {
   "cell_type": "markdown",
   "metadata": {},
   "source": [
    "**Table of contents**<a id='toc0_'></a>    \n",
    "- 1. [Problem 1: Production economy and CO2 taxation](#toc1_)    \n",
    "- 2. [Problem 2: Career choice model](#toc2_)    \n",
    "- 3. [Problem 3: Barycentric interpolation](#toc3_)    \n",
    "\n",
    "<!-- vscode-jupyter-toc-config\n",
    "\tnumbering=true\n",
    "\tanchor=true\n",
    "\tflat=false\n",
    "\tminLevel=2\n",
    "\tmaxLevel=6\n",
    "\t/vscode-jupyter-toc-config -->\n",
    "<!-- THIS CELL WILL BE REPLACED ON TOC UPDATE. DO NOT WRITE YOUR TEXT IN THIS CELL -->"
   ]
  },
  {
   "cell_type": "code",
   "execution_count": 237,
   "metadata": {},
   "outputs": [],
   "source": [
    "# Write your code here\n",
    "import numpy as np\n",
    "from types import SimpleNamespace\n",
    "import pandas as pd\n",
    "from scipy.optimize import fsolve\n",
    "from scipy.optimize import minimize\n",
    "import matplotlib.pyplot as plt"
   ]
  },
  {
   "cell_type": "markdown",
   "metadata": {},
   "source": [
    "## 1. <a id='toc1_'></a>[Problem 1: Production economy and CO2 taxation](#toc0_)"
   ]
  },
  {
   "cell_type": "markdown",
   "metadata": {},
   "source": [
    "Consider a production economy with two firms indexed by $j \\in \\{1,2\\}$. Each produce its own good. They solve\n",
    "\n",
    "$$\n",
    "\\begin{align*}\n",
    "\\max_{y_{j}}\\pi_{j}&=p_{j}y_{j}-w_{j}\\ell_{j}\\\\\\text{s.t.}\\;&y_{j}=A\\ell_{j}^{\\gamma}.\n",
    "\\end{align*}\n",
    "$$\n",
    "\n",
    "Optimal firm behavior is\n",
    "\n",
    "$$\n",
    "\\begin{align*}\n",
    "\\ell_{j}^{\\star}(w,p_{j})&=\\left(\\frac{p_{j}A\\gamma}{w}\\right)^{\\frac{1}{1-\\gamma}} \\\\\n",
    "y_{j}^{\\star}(w,p_{j})&=A\\left(\\ell_{j}^{\\star}(w,p_{j})\\right)^{\\gamma}\n",
    "\\end{align*}\n",
    "$$\n",
    "\n",
    "The implied profits are\n",
    "\n",
    "$$\n",
    "\\pi_{j}^*(w,p_{j})=\\frac{1-\\gamma}{\\gamma}w\\cdot\\left(\\frac{p_{j}A\\gamma}{w}\\right)^{\\frac{1}{1-\\gamma}}\n",
    "$$\n",
    "\n",
    "A single consumer supplies labor, and consumes the goods the firms produce. She also recieves the implied profits of the firm.<br>\n",
    "She solves:\n",
    "\n",
    "$$\n",
    "\\begin{align*}\n",
    "U(p_1,p_2,w,\\tau,T) = \\max_{c_{1},c_{2},\\ell} & \\log(c_{1}^{\\alpha}c_{2}^{1-\\alpha})-\\nu\\frac{\\ell^{1+\\epsilon}}{1+\\epsilon} \\\\\n",
    "\\text{s.t.}\\,\\,\\,&p_{1}c_{1}+(p_{2}+\\tau)c_{2}=w\\ell+T+\\pi_{1}^*(w,p_{1})+\\pi_{2}^*(w,p_{2})\n",
    "\\end{align*}\n",
    "$$\n",
    "\n",
    "where $\\tau$ is a tax and $T$ is lump-sum transfer. <br>\n",
    "For a given $\\ell$, it can be shown that optimal behavior is\n",
    "\n",
    "$$\n",
    "\\begin{align*}\n",
    "c_{1}(\\ell)&=\\alpha\\frac{w\\ell+T+\\pi_{1}^*(w,p_{1})+\\pi_{2}^*(w,p_{2})}{p_{1}} \\\\\n",
    "c_{2}(\\ell)&=(1-\\alpha)\\frac{w\\ell+T+\\pi_{1}^*(w,p_{1})+\\pi_{2}^*(w,p_{2})}{p_{2}+\\tau} \\\\\n",
    "\\end{align*}\n",
    "$$\n",
    "Such that optimal behavior is:\n",
    "$$\n",
    "\\ell^* = \\underset{\\ell}{\\arg\\max} \\log(\\left(c_{1}(\\ell)\\right)^{\\alpha}\\cdot \\left(c_{2}(\\ell)\\right)^{1-\\alpha})-\\nu\\frac{\\ell^{1+\\epsilon}}{1+\\epsilon} \n",
    "$$\n",
    "With optimal consumption:\n",
    "$$\n",
    "\\begin{align*}\n",
    "c_1^*=c_{1}(\\ell^*) \\\\\n",
    "c_2^*=c_{2}(\\ell^*)\\\\\n",
    "\\end{align*}\n",
    "$$\n",
    "\n",
    "\n",
    "The government chooses $\\tau$ and balances its budget so $T=\\tau c_2^*$. We initially set $\\tau,T=0$.\n",
    "\n",
    "Market clearing requires:\n",
    "\n",
    "1. Labor market: $\\ell^* = \\ell_1^* + \\ell_2^*$\n",
    "1. Good market 1: $c_1^* = y_1^*$\n",
    "1. Good market 2: $c_2^* = y_2^*$\n"
   ]
  },
  {
   "cell_type": "markdown",
   "metadata": {},
   "source": [
    "**Question 1:** Check market clearing conditions for $p_1$ in `linspace(0.1,2.0,10)` and $p_2$ in `linspace(0.1,2.0,10)`. We choose $w=1$ as numeraire."
   ]
  },
  {
   "cell_type": "code",
   "execution_count": 238,
   "metadata": {},
   "outputs": [],
   "source": [
    "par = SimpleNamespace()\n",
    "\n",
    "# firms\n",
    "par.A = 1.0\n",
    "par.gamma = 0.5\n",
    "\n",
    "# households\n",
    "par.alpha = 0.3\n",
    "par.nu = 1.0\n",
    "par.epsilon = 2.0\n",
    "\n",
    "# government\n",
    "par.tau = 0.0\n",
    "par.T = 0.0\n",
    "\n",
    "# Question 3\n",
    "par.kappa = 0.1"
   ]
  },
  {
   "cell_type": "markdown",
   "metadata": {},
   "source": [
    "We first define all the functions in the model:"
   ]
  },
  {
   "cell_type": "code",
   "execution_count": 239,
   "metadata": {},
   "outputs": [],
   "source": [
    "#We can now define the functions for the firms optiamal labor demand, profit maximization based on the government budget constraint\n",
    "\n",
    "def optimal_labor(w, p, A, gamma):\n",
    "    return (p*A*gamma/w)**(1/(1-gamma))\n",
    "\n",
    "def optimal_output(w, p, A, gamma):\n",
    "    return A*(optimal_labor(w, p, A, gamma))**gamma\n",
    "\n",
    "def profit(w, p, A, gamma):\n",
    "    return ((1-gamma)/gamma)*w*optimal_labor(w, p, A, gamma)\n",
    "\n",
    "#We can now define the household utility function and consumption function\n",
    "\n",
    "# Define the household consumption function with explicit float conversion\n",
    "def household_consumption(w, T, pi1, pi2, p1, p2, alpha, tau):\n",
    "    income = w + T + pi1 + pi2\n",
    "    c1 = alpha * income / p1\n",
    "    c2 = (1 - alpha) * income / (p2 + tau)\n",
    "    return float(c1), float(c2)\n",
    "\n",
    "def utility(c1, c2, nu, alpha, ell, epsilon):\n",
    "    return np.log(c1**alpha*c2**(1-alpha))-nu*(ell**(1+epsilon) / (1+epsilon))"
   ]
  },
  {
   "cell_type": "markdown",
   "metadata": {},
   "source": [
    "When all the functions defined, we can now start to find the maarket cleaning conditions for p1 and p2"
   ]
  },
  {
   "cell_type": "code",
   "execution_count": 240,
   "metadata": {},
   "outputs": [
    {
     "name": "stdout",
     "output_type": "stream",
     "text": [
      "No combination of p1 and p2 clears the markets.\n"
     ]
    }
   ],
   "source": [
    "#First we setup the range for p1 and p2 and w = 1\n",
    "p_values = np.linspace(0.1, 2.0, 10)\n",
    "w = 1.0 \n",
    "\n",
    "# Flag to check if any combination clears the market\n",
    "any_clearing_combination = False\n",
    "\n",
    "#We can now calculate the optimal labor demand, output and profit for each price pair\n",
    "for p1 in p_values:\n",
    "    for p2 in p_values:\n",
    "        ell_1 = optimal_labor(w, p1, par.A, par.gamma)\n",
    "        y_1 = optimal_output(w, p1, par.A, par.gamma)\n",
    "        pi1 = profit(w, p1, par.A, par.gamma)\n",
    "\n",
    "        ell_2 = optimal_labor(w, p2, par.A, par.gamma)\n",
    "        y_2 = optimal_output(w, p2, par.A, par.gamma)\n",
    "        pi2 = profit(w, p2, par.A, par.gamma)\n",
    "\n",
    "        #We can now calculate the consumption and utility for each price pair\n",
    "        c1, c2 = household_consumption(w, par.T, pi1, pi2, p1, p2, par.alpha, par.tau)\n",
    "\n",
    "        #Finding market clearing conditions\n",
    "        labor_market_clearing = ell_1 + ell_2\n",
    "        goods_market_clearing_1 = c1 - y_1 \n",
    "        goods_market_clearing_2 = c2 - y_2 \n",
    "\n",
    "       # Check if the markets clear within the a number vclose to zero\n",
    "        labor_market_clear = np.abs(labor_market_clearing - 1.0) < 1e-8\n",
    "        goods_market_1_clear = np.abs(goods_market_clearing_1) < 1e-8\n",
    "        goods_market_2_clear = np.abs(goods_market_clearing_2) < 1e-8\n",
    "\n",
    "      # Check if all markets clear\n",
    "        if labor_market_clear and goods_market_1_clear and goods_market_2_clear:\n",
    "            any_clearing_combination = True\n",
    "            print(f\"Clearing combination found!\")\n",
    "            print(f\"p1: {p1:.2f}, p2: {p2:.2f}\")\n",
    "            print(f\"Labor market clearing: {labor_market_clearing:.4f}, Clears: {labor_market_clear}\")\n",
    "            print(f\"Goods market 1 clearing deviation: {goods_market_clearing_1:.4f}, Clears: {goods_market_1_clear}\")\n",
    "            print(f\"Goods market 2 clearing deviation: {goods_market_clearing_2:.4f}, Clears: {goods_market_2_clear}\")\n",
    "            print()\n",
    "\n",
    "if not any_clearing_combination:\n",
    "    print(\"No combination of p1 and p2 clears the markets.\")"
   ]
  },
  {
   "cell_type": "markdown",
   "metadata": {},
   "source": [
    "Hence we cannot find that the market clears at any combination. We could increase the number of steps in the search for prices, and find a market clearing price."
   ]
  },
  {
   "cell_type": "markdown",
   "metadata": {},
   "source": [
    "**Question 2:** Find the equilibrium prices $p_1$ and $p_2$.<br>\n",
    "*Hint: you can use Walras' law to only check 2 of the market clearings*"
   ]
  },
  {
   "cell_type": "code",
   "execution_count": 248,
   "metadata": {},
   "outputs": [
    {
     "name": "stdout",
     "output_type": "stream",
     "text": [
      "Equilibrium: p1 = 1.0954, p2 = 1.6733\n"
     ]
    }
   ],
   "source": [
    "# we first define the market clearing function to find the equilibrium prices. We use the same method as before:\n",
    "\n",
    "def market_clearing(prices, w, T, alpha, tau, A, gamma):\n",
    "    p1, p2 = prices\n",
    "    ell_1 = optimal_labor(w, p1, A, gamma)\n",
    "    y_1 = optimal_output(w, p1, A, gamma)\n",
    "    pi1 = profit(w, p1, A, gamma)\n",
    "\n",
    "    ell_2 = optimal_labor(w, p2, A, gamma)\n",
    "    y_2 = optimal_output(w, p2, A, gamma)\n",
    "    pi2 = profit(w, p2, A, gamma)\n",
    "\n",
    "    c1, c2 = household_consumption(w, T, pi1, pi2, p1, p2, alpha, tau)\n",
    "\n",
    "    goods_market_clearing_1 = c1 - y_1 \n",
    "    goods_market_clearing_2 = c2 - y_2 \n",
    "\n",
    "    return [goods_market_clearing_1, goods_market_clearing_2]\n",
    "\n",
    "# Simplify to use a single initial guess for finding the equilibrium prices\n",
    "initial_guess = [1.0, 1.0]\n",
    "equilibrium_prices = fsolve(market_clearing, initial_guess, args=(w, par.T, par.alpha, par.tau, par.A, par.gamma))\n",
    "# Round to avoid floating-point comparison issues\n",
    "equilibrium_prices = np.round(equilibrium_prices, decimals=8)\n",
    "\n",
    "# Print the equilibrium prices\n",
    "print(f\"Equilibrium: p1 = {equilibrium_prices[0]:.4f}, p2 = {equilibrium_prices[1]:.4f}\")"
   ]
  },
  {
   "cell_type": "markdown",
   "metadata": {},
   "source": [
    "Hence we have an equlibrium at p1 = 1.0954 and p2 = 1.6733"
   ]
  },
  {
   "cell_type": "markdown",
   "metadata": {},
   "source": [
    "Assume the government care about the social welfare function:\n",
    "\n",
    "$$\n",
    "SWF = U - \\kappa y_2^*\n",
    "$$"
   ]
  },
  {
   "cell_type": "markdown",
   "metadata": {},
   "source": [
    "Here $\\kappa$ measures the social cost of carbon emitted by the production of $y_2$ in equilibrium."
   ]
  },
  {
   "cell_type": "markdown",
   "metadata": {},
   "source": [
    "**Question 3:** What values of $\\tau$ and (implied) $T$ should the government choose to maximize $SWF$?"
   ]
  },
  {
   "cell_type": "code",
   "execution_count": 249,
   "metadata": {},
   "outputs": [
    {
     "name": "stdout",
     "output_type": "stream",
     "text": [
      "Optimal tau: 0.79, Optimal T: 0.45\n"
     ]
    }
   ],
   "source": [
    "# Define the social welfare function\n",
    "def social_welfare(tau, w, A, gamma, alpha, nu, epsilon, kappa):\n",
    "    par.tau = tau\n",
    "\n",
    "    # Find equilibrium prices with current tau\n",
    "    equilibrium_prices = fsolve(market_clearing, [1.0, 1.0], args=(w, 0, alpha, tau, A, gamma))\n",
    "    p1_eq, p2_eq = equilibrium_prices\n",
    "\n",
    "    ell_1 = optimal_labor(w, p1_eq, A, gamma)\n",
    "    y_1 = optimal_output(w, p1_eq, A, gamma)\n",
    "    pi1 = profit(w, p1_eq, A, gamma)\n",
    "\n",
    "    ell_2 = optimal_labor(w, p2_eq, A, gamma)\n",
    "    y_2 = optimal_output(w, p2_eq, A, gamma)\n",
    "    pi2 = profit(w, p2_eq, A, gamma)\n",
    "\n",
    "    # Calculate initial consumption\n",
    "    c1, c2 = household_consumption(w, 0, pi1, pi2, p1_eq, p2_eq, alpha, tau)\n",
    "\n",
    "    # Update T based on tau and c2\n",
    "    T = tau * c2\n",
    "\n",
    "    # Recalculate consumption with updated T\n",
    "    c1, c2 = household_consumption(w, T, pi1, pi2, p1_eq, p2_eq, alpha, tau)\n",
    "    ell_total = ell_1 + ell_2\n",
    "\n",
    "    # Utility\n",
    "    U = utility(c1, c2, nu, alpha, ell_total, epsilon)\n",
    "\n",
    "    # Social Welfare Function\n",
    "    SWF = U - kappa * y_2\n",
    "\n",
    "    return -SWF  # Minimize the negative of SWF to maximize SWF\n",
    "\n",
    "\n",
    "# Initial guess for tau\n",
    "initial_tau = 0.1\n",
    "\n",
    "# Optimize\n",
    "result = minimize(social_welfare, initial_tau, args=(w, par.A, par.gamma, par.alpha, par.nu, par.epsilon, kappa), bounds=[(0, None)])\n",
    "optimal_tau = result.x[0]\n",
    "\n",
    "# Calculate optimal T based on the optimal tau\n",
    "equilibrium_prices = fsolve(market_clearing, [1.0, 1.0], args=(w, 0, par.alpha, optimal_tau, par.A, par.gamma))\n",
    "p1_eq, p2_eq = equilibrium_prices\n",
    "ell_1 = optimal_labor(w, p1_eq, par.A, par.gamma)\n",
    "y_1 = optimal_output(w, p1_eq, par.A, par.gamma)\n",
    "pi1 = profit(w, p1_eq, par.A, par.gamma)\n",
    "ell_2 = optimal_labor(w, p2_eq, par.A, par.gamma)\n",
    "y_2 = optimal_output(w, p2_eq, par.A, par.gamma)\n",
    "pi2 = profit(w, p2_eq, par.A, par.gamma)\n",
    "c1, c2 = household_consumption(w, 0, pi1, pi2, p1_eq, p2_eq, par.alpha, optimal_tau)\n",
    "optimal_T = optimal_tau * c2\n",
    "\n",
    "print(f\"Optimal tau: {optimal_tau:.2f}, Optimal T: {optimal_T:.2f}\")\n"
   ]
  },
  {
   "cell_type": "markdown",
   "metadata": {},
   "source": [
    "Hence the carbon tax rate is 0.79 and the lump-sum transfer is 0.45 to maximize the social welfare function"
   ]
  },
  {
   "cell_type": "markdown",
   "metadata": {},
   "source": [
    "## 2. <a id='toc2_'></a>[Problem 2: Career choice model](#toc0_)"
   ]
  },
  {
   "cell_type": "markdown",
   "metadata": {},
   "source": [
    "Consider a graduate $i$ making a choice between entering $J$ different career tracks. <br>\n",
    "Entering career $j$ yields utility $u^k_{ij}$. This value is unknown to the graduate ex ante, but will ex post be: <br>\n",
    "$$\n",
    "    u_{i,j}^k = v_{j} + \\epsilon_{i,j}^k\n",
    "$$\n",
    "\n",
    "They know that $\\epsilon^k_{i,j}\\sim \\mathcal{N}(0,\\sigma^2)$, but they do not observe $\\epsilon^k_{i,j}$ before making their career choice. <br>"
   ]
  },
  {
   "cell_type": "markdown",
   "metadata": {},
   "source": [
    "Consider the concrete case of $J=3$ with:\n",
    "$$\n",
    "\\begin{align*}\n",
    "    v_{1} &= 1 \\\\\n",
    "    v_{2} &= 2 \\\\\n",
    "    v_{3} &= 3\n",
    "\\end{align*}\n",
    "$$"
   ]
  },
  {
   "cell_type": "markdown",
   "metadata": {},
   "source": [
    "If the graduates know the values of $v_j$ and the distribution of $\\epsilon_{i,j}^k$, they can calculate the expected utility of each career track using simulation: <br>\n",
    "$$\n",
    "    \\mathbb{E}\\left[ u^k_{i,j}\\vert v_j \\right] \\approx v_j + \\frac{1}{K}\\sum_{k=1}^K \\epsilon_{i,j}^k\n",
    "$$"
   ]
  },
  {
   "cell_type": "code",
   "execution_count": 250,
   "metadata": {},
   "outputs": [],
   "source": [
    "par = SimpleNamespace()\n",
    "par.J = 3\n",
    "par.N = 10\n",
    "par.K = 10000\n",
    "\n",
    "par.F = np.arange(1,par.N+1)\n",
    "par.sigma = 2\n",
    "\n",
    "par.v = np.array([1,2,3])\n",
    "par.c = 1"
   ]
  },
  {
   "cell_type": "markdown",
   "metadata": {},
   "source": [
    "\n",
    "**Question 1:** Simulate and calculate expected utility and the average realised utility for $K=10000$ draws, for each career choice $j$.\n"
   ]
  },
  {
   "cell_type": "code",
   "execution_count": 251,
   "metadata": {},
   "outputs": [
    {
     "name": "stdout",
     "output_type": "stream",
     "text": [
      "Career 1: Expected Utility = 1.0154, Realized Utility = 1.0154\n",
      "Career 2: Expected Utility = 2.0064, Realized Utility = 2.0064\n",
      "Career 3: Expected Utility = 3.0030, Realized Utility = 3.0030\n"
     ]
    }
   ],
   "source": [
    "# Setting seed for reproducibility\n",
    "np.random.seed(2024)\n",
    "\n",
    "# Initialize arrays to store expected and realized utilities\n",
    "expected_utilities = np.zeros(par.J)\n",
    "realized_utilities = np.zeros(par.J)\n",
    "\n",
    "# Loop through the simulations of career choices\n",
    "for j in range(par.J):\n",
    "    utilities = par.v[j] + np.random.normal(0, par.sigma, par.K)\n",
    "    expected_utilities[j] = np.mean(utilities)\n",
    "    realized_utilities[j] = np.mean(utilities)\n",
    "\n",
    "# Print the results\n",
    "for j in range(par.J):\n",
    "    print(f\"Career {j+1}: Expected Utility = {expected_utilities[j]:.4f}, Realized Utility = {realized_utilities[j]:.4f}\")\n"
   ]
  },
  {
   "cell_type": "markdown",
   "metadata": {},
   "source": [
    "Now consider a new scenario: Imagine that the graduate does not know $v_j$. The *only* prior information they have on the value of each job, comes from their $F_{i}$ friends that work in each career $j$. After talking with them, they know the average utility of their friends (which includes their friends' noise term), giving them the prior expecation: <br>\n",
    "$$\n",
    "\\tilde{u}^k_{i,j}\\left( F_{i}\\right) = \\frac{1}{F_{i}}\\sum_{f=1}^{F_{i}} \\left(v_{j} + \\epsilon^k_{f,j}\\right), \\; \\epsilon^k_{f,j}\\sim \\mathcal{N}(0,\\sigma^2)\n",
    "$$\n",
    "For ease of notation consider that each graduate have $F_{i}=i$ friends in each career. <br>"
   ]
  },
  {
   "cell_type": "markdown",
   "metadata": {},
   "source": [
    "For $K$ times do the following: <br>\n",
    "1. For each person $i$ draw $J\\cdot F_i$ values of $\\epsilon_{f,j}^{k}$, and calculate the prior expected utility of each career track, $\\tilde{u}^k_{i,j}\\left( F_{i}\\right)$. <br>\n",
    "Also draw their own $J$ noise terms, $\\epsilon_{i,j}^k$\n",
    "1. Each person $i$ chooses the career track with the highest expected utility: $$j_i^{k*}= \\arg\\max_{j\\in{1,2\\dots,J}}\\left\\{ \\tilde{u}^k_{i,j}\\left( F_{i}\\right)\\right\\} $$\n",
    "1. Store the chosen careers: $j_i^{k*}$, the prior expectation of the value of their chosen career: $\\tilde{u}^k_{i,j=j_i^{k*}}\\left( F_{i}\\right)$, and the realized value of their chosen career track: $u^k_{i,j=j_i^{k*}}=v_{j=j_i^{k*}}+\\epsilon_{i,j=j_i^{k*}}^k$."
   ]
  },
  {
   "cell_type": "markdown",
   "metadata": {},
   "source": [
    "Chosen values will be: <br>\n",
    "$i\\in\\left\\{1,2\\dots,N\\right\\}, N=10$ <br>\n",
    "$F_i = i$<br>\n",
    "So there are 10 graduates. The first has 1 friend in each career, the second has 2 friends, ... the tenth has 10 friends."
   ]
  },
  {
   "cell_type": "markdown",
   "metadata": {},
   "source": [
    "**Question 2:** Simulate and visualize: For each type of graduate, $i$, the share of graduates choosing each career, the average subjective expected utility of the graduates, and the average ex post realized utility given their choice. <br>\n",
    "That is, calculate and visualize: <br>\n",
    "$$\n",
    "\\begin{align*}\n",
    "    \\frac{1}{K} \\sum_{k=1}^{K} \\mathbb{I}\\left\\{ j=j_i^{k*} \\right\\}  \\;\\forall j\\in\\left\\{1,2,\\dots,J\\right\\}\n",
    "\\end{align*}\n",
    "$$\n",
    "$$\n",
    "\\begin{align*}\n",
    "    \\frac{1}{K} \\sum_{k=1}^{K} \\tilde{u}^k_{ij=j_i^{k*}}\\left( F_{i}\\right)\n",
    "\\end{align*}\n",
    "$$\n",
    "And \n",
    "$$\n",
    "\\begin{align*}\n",
    "    \\frac{1}{K} \\sum_{k=1}^{K} u^k_{ij=j_i^{k*}} \n",
    "\\end{align*}\n",
    "$$\n",
    "For each graduate $i$."
   ]
  },
  {
   "cell_type": "code",
   "execution_count": 252,
   "metadata": {},
   "outputs": [
    {
     "name": "stdout",
     "output_type": "stream",
     "text": [
      "Career 1: Average Share = 0.1000\n",
      "Career 2: Average Share = 0.2000\n",
      "Career 3: Average Share = 0.7000\n"
     ]
    },
    {
     "data": {
      "image/png": "[encoded data removed]",
      "text/plain": [
       "<Figure size 1000x600 with 1 Axes>"
      ]
     },
     "metadata": {},
     "output_type": "display_data"
    }
   ],
   "source": [
    "#Setting seed for reproducibility\n",
    "np.random.seed(2024)\n",
    "\n",
    "def simulate_graduates_choices(par):\n",
    "    shares = np.zeros((par.N, par.J))\n",
    "    expected_utilities = np.zeros((par.N, par.J))\n",
    "    \n",
    "    for i in range(par.N):\n",
    "        friends = par.F[i]\n",
    "        utilities = np.zeros((par.J, friends))\n",
    "        \n",
    "        for j in range(par.J):\n",
    "            utilities[j, :] = par.v[j] + np.random.normal(0, par.sigma, friends)\n",
    "            expected_utilities[i, j] = np.mean(utilities[j, :])\n",
    "        \n",
    "        best_career = np.argmax(expected_utilities[i, :])\n",
    "        shares[i, best_career] += 1\n",
    "\n",
    "    return shares, expected_utilities\n",
    "\n",
    "# Simulate graduates' choices\n",
    "shares, expected_utilities = simulate_graduates_choices(par)\n",
    "\n",
    "# Calculate average shares across all graduates\n",
    "average_shares = shares.sum(axis=0) / par.N\n",
    "\n",
    "# Print the results\n",
    "for j in range(par.J):\n",
    "    print(f\"Career {j+1}: Average Share = {average_shares[j]:.4f}\")\n",
    "\n",
    "# Plot expected utilities\n",
    "plt.figure(figsize=(10, 6))\n",
    "for j in range(par.J):\n",
    "    plt.plot(par.F, expected_utilities[:, j], label=f'Career {j+1}')\n",
    "\n",
    "plt.xlabel('Number of Friends')\n",
    "plt.ylabel('Expected Utility')\n",
    "plt.title('Expected Utilities for Each Career Choice')\n",
    "plt.legend()\n",
    "plt.grid(True)\n",
    "plt.show()\n"
   ]
  },
  {
   "cell_type": "markdown",
   "metadata": {},
   "source": [
    "In the plot the number of friends is the x-axis and the y-axis the expecxted utility. We can see that it is varying a lot, but we all have a quite small number of friends. If we where to increase the number of friends, the expected utility would go towards it true mean.\n",
    "The most common career choice is career 3 based on the simulation. next most common is career 2 and the least is career 1. If N got large, one career would probaly take all the students, since that has the highest expected utility, and hence no one would choose other careers, since there is no information on those.\n",
    "The career with highest expected utility is 2, when you have 10 friends."
   ]
  },
  {
   "cell_type": "markdown",
   "metadata": {},
   "source": [
    "After a year of working in their career, the graduates learn $u^k_{ij}$ for their chosen job $j_i^{k*}$ perfectly. <br>\n",
    "The can switch to one of the two remaining careers, for which they have the same prior as before, but it will now include a switching cost of $c$ which is known.\n",
    "Their new priors can be written as: \n",
    "$$\n",
    "\\tilde{u}^{k,2}_{ij}\\left( F_{i}\\right) = \\begin{cases}\n",
    "            \\tilde{u}^k_{ij}\\left( F_{i}\\right)-c & \\text{if } j \\neq j_i^{k*} \\\\\n",
    "            u_{ij=j_i^{k*}} & \\text{if } j = j_i^{k*}\n",
    "        \\end{cases}\n",
    "$$"
   ]
  },
  {
   "cell_type": "markdown",
   "metadata": {},
   "source": [
    "We will set $c=1$."
   ]
  },
  {
   "cell_type": "markdown",
   "metadata": {},
   "source": [
    "Their realized utility will be: <br>\n",
    "$$\n",
    "u^{k,2}_{ij}= \\begin{cases}\n",
    "            u_{ij}^k -c & \\text{if } j \\neq j_i^{k*} \\\\\n",
    "            u_{ij=j_i^{k*}} & \\text{if } j = j_i^{k*}\n",
    "        \\end{cases}\n",
    "$$"
   ]
  },
  {
   "cell_type": "markdown",
   "metadata": {},
   "source": [
    "**Question 3:** Following the same approach as in question 2, find the new optimal career choice for each $i$, $k$. Then for each $i$, calculate the average subjective expected utility from their new optimal career choice, and the ex post realized utility of that career. Also, for each $i$, calculate the share of graduates that chooses to switch careers, conditional on which career they chose in the first year. <br>"
   ]
  },
  {
   "cell_type": "code",
   "execution_count": 260,
   "metadata": {},
   "outputs": [
    {
     "name": "stdout",
     "output_type": "stream",
     "text": [
      "Share of students switching careers: 0.3000\n",
      "Average Subjective Expected Utility: 3.0006\n",
      "Average Realized Utility: 3.0041\n",
      "Career 1: Share of students switching careers = 1.0000\n",
      "Career 2: Share of students switching careers = 1.0000\n",
      "Career 3: Share of students switching careers = 0.0000\n",
      "\n",
      "New Expected Utilities:\n",
      "[[1.01589509 2.00948775 3.00121564]\n",
      " [1.00488355 2.01740746 3.02244506]\n",
      " [0.98321084 2.03609182 2.99646258]\n",
      " [0.97913471 2.02567929 2.99554016]\n",
      " [1.0001393  2.01456136 2.97393576]\n",
      " [1.00398937 2.01880439 3.00337314]\n",
      " [0.98326795 2.02163942 3.0049693 ]\n",
      " [0.99536599 2.04134815 2.99734709]\n",
      " [1.01201934 2.01551943 3.01126163]\n",
      " [0.98988694 2.03351233 2.99977679]]\n"
     ]
    },
    {
     "data": {
      "image/png": "[encoded data removed]",
      "text/plain": [
       "<Figure size 1000x600 with 1 Axes>"
      ]
     },
     "metadata": {},
     "output_type": "display_data"
    }
   ],
   "source": [
    "#setting seed for reproducibility\n",
    "np.random.seed(2024)\n",
    "\n",
    "def simulate_initial_choices(par):\n",
    "    initial_choices = np.zeros(par.N, dtype=int)\n",
    "    expected_utilities = np.zeros((par.N, par.J))\n",
    "    \n",
    "    for i in range(par.N):\n",
    "        friends = par.F[i]\n",
    "        utilities = np.zeros((par.J, friends))\n",
    "        \n",
    "        for j in range(par.J):\n",
    "            utilities[j, :] = par.v[j] + np.random.normal(0, par.sigma, friends)\n",
    "            expected_utilities[i, j] = np.mean(utilities[j, :])\n",
    "        \n",
    "        best_career = np.argmax(expected_utilities[i, :])\n",
    "        initial_choices[i] = best_career\n",
    "\n",
    "    return initial_choices, expected_utilities\n",
    "\n",
    "def simulate_new_choices(par, initial_choices):\n",
    "    new_choices = np.zeros(par.N, dtype=int)\n",
    "    new_expected_utilities = np.zeros((par.N, par.J))\n",
    "    realized_utilities = np.zeros(par.N)\n",
    "    \n",
    "    for i in range(par.N):\n",
    "        utilities = np.zeros((par.J, par.K))\n",
    "        \n",
    "        for j in range(par.J):\n",
    "            utilities[j, :] = par.v[j] + np.random.normal(0, par.sigma, par.K)\n",
    "            new_expected_utilities[i, j] = np.mean(utilities[j, :])\n",
    "        \n",
    "        best_career = np.argmax(new_expected_utilities[i, :])\n",
    "        new_choices[i] = best_career\n",
    "        realized_utilities[i] = np.mean(par.v[best_career] + np.random.normal(0, par.sigma, par.K))\n",
    "\n",
    "    switch_shares = np.mean(new_choices != initial_choices)\n",
    "    return switch_shares, new_expected_utilities, realized_utilities, new_choices\n",
    "\n",
    "# Simulate initial choices\n",
    "initial_choices, initial_expected_utilities = simulate_initial_choices(par)\n",
    "\n",
    "# Simulate new choices based on updated information\n",
    "switch_shares, new_expected_utilities, realized_utilities, new_choices = simulate_new_choices(par, initial_choices)\n",
    "\n",
    "# Calculate average subjective expected utility from the new optimal career choice\n",
    "average_subjective_expected_utility = np.mean([new_expected_utilities[i, new_choices[i]] for i in range(par.N)])\n",
    "\n",
    "# Calculate ex post realized utility from the new optimal career choice\n",
    "average_realized_utility = np.mean(realized_utilities)\n",
    "\n",
    "# Calculate share of graduates switching careers conditional on initial career choice\n",
    "switch_shares_conditional = np.zeros(par.J)\n",
    "for j in range(par.J):\n",
    "    initial_career_mask = initial_choices == j\n",
    "    switch_shares_conditional[j] = np.mean(new_choices[initial_career_mask] != initial_choices[initial_career_mask])\n",
    "\n",
    "# Print the results\n",
    "print(f\"Share of students switching careers: {switch_shares:.4f}\")\n",
    "print(f\"Average Subjective Expected Utility: {average_subjective_expected_utility:.4f}\")\n",
    "print(f\"Average Realized Utility: {average_realized_utility:.4f}\")\n",
    "for j in range(par.J):\n",
    "    print(f\"Career {j+1}: Share of students switching careers = {switch_shares_conditional[j]:.4f}\")\n",
    "\n",
    "# Display the new expected utilities\n",
    "print(\"\\nNew Expected Utilities:\")\n",
    "print(new_expected_utilities)\n",
    "\n",
    "# Plot new expected utilities\n",
    "plt.figure(figsize=(10, 6))\n",
    "for j in range(par.J):\n",
    "    plt.plot(par.F, new_expected_utilities[:, j], label=f'Career {j+1}')\n",
    "\n",
    "plt.xlabel('Number of Friends')\n",
    "plt.ylabel('New Expected Utility')\n",
    "plt.title('New Expected Utilities for Each Career Choice')\n",
    "plt.legend()\n",
    "plt.grid(True)\n",
    "plt.show()\n"
   ]
  },
  {
   "cell_type": "markdown",
   "metadata": {},
   "source": [
    "As seen the shares of students switching switching career is 30%. The expected utility is now more fixed to a level, with career 3 having a utility of 3, career to having a utility of 2 and career 1 having an utility of 1.\n",
    "We can also see that all people that does not chose career 3 to start with, make the switch to that career."
   ]
  },
  {
   "cell_type": "markdown",
   "metadata": {},
   "source": [
    "## 3. <a id='toc3_'></a>[Problem 3: Barycentric interpolation](#toc0_)"
   ]
  },
  {
   "cell_type": "markdown",
   "metadata": {},
   "source": [
    "**Problem:** We have a set of random points in the unit square,\n",
    "\n",
    "$$\n",
    "\\mathcal{X} = \\{(x_1,x_2)\\,|\\,x_1\\sim\\mathcal{U}(0,1),x_2\\sim\\mathcal{U}(0,1)\\}.\n",
    "$$\n",
    "\n",
    "For these points, we know the value of some function $f(x_1,x_2)$,\n",
    "\n",
    "$$\n",
    "\\mathcal{F} = \\{f(x_1,x_2) \\,|\\, (x_1,x_2) \\in \\mathcal{X}\\}.\n",
    "$$\n",
    "\n",
    "Now we want to approximate the value $f(y_1,y_2)$ for some  $y=(y_1,y_2)$, where $y_1\\sim\\mathcal{U}(0,1)$ and $y_2\\sim\\mathcal{U}(0,1)$.\n",
    "\n",
    "**Building block I**\n",
    "\n",
    "For an arbitrary triangle $ABC$ and a point $y$, define the so-called barycentric coordinates as:\n",
    "\n",
    "$$\n",
    "\\begin{align*}\n",
    "  r^{ABC}_1 &= \\frac{(B_2-C_2)(y_1-C_1) + (C_1-B_1)(y_2-C_2)}{(B_2-C_2)(A_1-C_1) + (C_1-B_1)(A_2-C_2)} \\\\\n",
    "  r^{ABC}_2 &= \\frac{(C_2-A_2)(y_1-C_1) + (A_1-C_1)(y_2-C_2)}{(B_2-C_2)(A_1-C_1) + (C_1-B_1)(A_2-C_2)} \\\\\n",
    "  r^{ABC}_3 &= 1 - r_1 - r_2.\n",
    "\\end{align*}\n",
    "$$\n",
    "\n",
    "If $r^{ABC}_1 \\in [0,1]$, $r^{ABC}_2 \\in [0,1]$, and $r^{ABC}_3 \\in [0,1]$, then the point is inside the triangle.\n",
    "\n",
    "We always have $y = r^{ABC}_1 A + r^{ABC}_2 B + r^{ABC}_3 C$.\n",
    "\n",
    "**Building block II**\n",
    "\n",
    "Define the following points:\n",
    "\n",
    "$$\n",
    "\\begin{align*}\n",
    "A&=\\arg\\min_{(x_{1},x_{2})\\in\\mathcal{X}}\\sqrt{\\left(x_{1}-y_{1}\\right)^{2}+\\left(x_{2}-y_{2}\\right)^{2}}\\text{ s.t. }x_{1}>y_{1}\\text{ and }x_{2}>y_{2}\\\\\n",
    "B&=\\arg\\min_{(x_{1},x_{2})\\in\\mathcal{X}}\\sqrt{\\left(x_{1}-y_{1}\\right)^{2}+\\left(x_{2}-y_{2}\\right)^{2}}\\text{ s.t. }x_{1}>y_{1}\\text{ and }x_{2}<y_{2}\\\\\n",
    "C&=\\arg\\min_{(x_{1},x_{2})\\in\\mathcal{X}}\\sqrt{\\left(x_{1}-y_{1}\\right)^{2}+\\left(x_{2}-y_{2}\\right)^{2}}\\text{ s.t. }x_{1}<y_{1}\\text{ and }x_{2}<y_{2}\\\\\n",
    "D&=\\arg\\min_{(x_{1},x_{2})\\in\\mathcal{X}}\\sqrt{\\left(x_{1}-y_{1}\\right)^{2}+\\left(x_{2}-y_{2}\\right)^{2}}\\text{ s.t. }x_{1}<y_{1}\\text{ and }x_{2}>y_{2}.\n",
    "\\end{align*}\n",
    "$$\n",
    "\n",
    "**Algorithm:**\n",
    "\n",
    "1. Compute $A$, $B$, $C$, and $D$. If not possible return `NaN`.\n",
    "1. If $y$ is inside the triangle $ABC$ return $r^{ABC}_1 f(A) + r^{ABC}_2 f(B) + r^{ABC}_3 f(C)$.\n",
    "1. If $y$ is inside the triangle $CDA$ return $r^{CDA}_1 f(C) + r^{CDA}_2 f(D) + r^{CDA}_3 f(A)$.\n",
    "1. Return `NaN`.\n",
    "\n"
   ]
  },
  {
   "cell_type": "markdown",
   "metadata": {},
   "source": [
    "**Sample:**"
   ]
  },
  {
   "cell_type": "code",
   "execution_count": 261,
   "metadata": {},
   "outputs": [],
   "source": [
    "rng = np.random.default_rng(2024)\n",
    "\n",
    "X = rng.uniform(size=(50,2))\n",
    "y = rng.uniform(size=(2,))\n"
   ]
  },
  {
   "cell_type": "markdown",
   "metadata": {},
   "source": [
    "**Questions 1:** Find $A$, $B$, $C$ and $D$. Illustrate these together with $X$, $y$ and the triangles $ABC$ and $CDA$."
   ]
  },
  {
   "cell_type": "code",
   "execution_count": null,
   "metadata": {},
   "outputs": [],
   "source": [
    "# write your answer here"
   ]
  },
  {
   "cell_type": "markdown",
   "metadata": {},
   "source": [
    "**Question 2:** Compute the barycentric coordinates of the point $y$ with respect to the triangles $ABC$ and $CDA$. Which triangle is $y$ located inside?"
   ]
  },
  {
   "cell_type": "code",
   "execution_count": null,
   "metadata": {},
   "outputs": [],
   "source": [
    "# write your answer here"
   ]
  },
  {
   "cell_type": "markdown",
   "metadata": {},
   "source": [
    "Now consider the function:\n",
    "$$\n",
    "f(x_1,x_2) = x_1 \\cdot x_2\n",
    "$$"
   ]
  },
  {
   "cell_type": "code",
   "execution_count": null,
   "metadata": {},
   "outputs": [],
   "source": [
    "f = lambda x: x[0]*x[1]\n",
    "F = np.array([f(x) for x in X])"
   ]
  },
  {
   "cell_type": "markdown",
   "metadata": {},
   "source": [
    "**Question 3:** Compute the approximation of $f(y)$ using the full algorithm. Compare with the true value."
   ]
  },
  {
   "cell_type": "code",
   "execution_count": null,
   "metadata": {},
   "outputs": [],
   "source": [
    "# write your answer here"
   ]
  },
  {
   "cell_type": "markdown",
   "metadata": {},
   "source": [
    "**Question 4:** Repeat question 3 for all points in the set $Y$."
   ]
  },
  {
   "cell_type": "code",
   "execution_count": null,
   "metadata": {},
   "outputs": [],
   "source": [
    "Y = [(0.2,0.2),(0.8,0.2),(0.8,0.8),(0.8,0.2),(0.5,0.5)]"
   ]
  },
  {
   "cell_type": "code",
   "execution_count": null,
   "metadata": {},
   "outputs": [],
   "source": [
    "# write your answer here"
   ]
  }
 ],
 "metadata": {
  "kernelspec": {
   "display_name": "base",
   "language": "python",
   "name": "python3"
  },
  "language_info": {
   "codemirror_mode": {
    "name": "ipython",
    "version": 3
   },
   "file_extension": ".py",
   "mimetype": "text/x-python",
   "name": "python",
   "nbconvert_exporter": "python",
   "pygments_lexer": "ipython3",
   "version": "3.11.5"
  }
 },
 "nbformat": 4,
 "nbformat_minor": 2
}
